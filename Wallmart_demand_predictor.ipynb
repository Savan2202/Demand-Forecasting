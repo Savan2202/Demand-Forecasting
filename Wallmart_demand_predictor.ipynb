{
 "cells": [
  {
   "cell_type": "code",
   "execution_count": null,
   "metadata": {
    "id": "DXcB45Fb-DYw"
   },
   "outputs": [],
   "source": [
    "import pandas as pd\n",
    "from sklearn.model_selection import train_test_split\n",
    "from sklearn.ensemble import RandomForestRegressor\n",
    "from sklearn.metrics import mean_squared_error, r2_score\n",
    "import numpy as np\n",
    "import matplotlib.pyplot as plt\n",
    "import seaborn as sns"
   ]
  },
  {
   "cell_type": "code",
   "execution_count": null,
   "metadata": {
    "id": "eQ26N_HMCdXx"
   },
   "outputs": [],
   "source": [
    "# Take Walmart Dataset as Input\n",
    "train = pd.read_csv('train.csv', parse_dates=['Date'])\n",
    "features = pd.read_csv('features.csv', parse_dates=['Date'])\n",
    "stores = pd.read_csv('stores.csv')"
   ]
  },
  {
   "cell_type": "code",
   "execution_count": null,
   "metadata": {
    "colab": {
     "base_uri": "https://localhost:8080/",
     "height": 206
    },
    "id": "xqib7V2LCdEP",
    "outputId": "fcbbbb31-aa38-4f71-9b13-4401d25970be"
   },
   "outputs": [],
   "source": [
    "train.head()"
   ]
  },
  {
   "cell_type": "code",
   "execution_count": null,
   "metadata": {
    "colab": {
     "base_uri": "https://localhost:8080/",
     "height": 313
    },
    "id": "4DOBLy1OCdBd",
    "outputId": "fea32a9b-be8a-4f6f-8b6f-46307daab37f"
   },
   "outputs": [],
   "source": [
    "features.head()"
   ]
  },
  {
   "cell_type": "code",
   "execution_count": null,
   "metadata": {
    "colab": {
     "base_uri": "https://localhost:8080/",
     "height": 206
    },
    "id": "H53zwQJgCcvS",
    "outputId": "226d910d-824f-41fb-84f4-e768707e5cbb"
   },
   "outputs": [],
   "source": [
    "stores.head()"
   ]
  },
  {
   "cell_type": "code",
   "execution_count": null,
   "metadata": {
    "colab": {
     "base_uri": "https://localhost:8080/"
    },
    "id": "1S5968x6Ccjj",
    "outputId": "fc9aaa4a-d97d-4d78-f6d4-ba45f7395996"
   },
   "outputs": [],
   "source": [
    "# Merge data os train,feature and stores\n",
    "train_data = pd.merge(train, features, on=['Store', 'Date', 'IsHoliday'], how='left')\n",
    "train_data = pd.merge(train_data, stores, on='Store', how='left')\n",
    "print(train_data.head())"
   ]
  },
  {
   "cell_type": "code",
   "execution_count": null,
   "metadata": {
    "id": "Gm_F7AW3Cr0y"
   },
   "outputs": [],
   "source": [
    "#Convert to numerical data\n",
    "train_data = train_data.select_dtypes(include=['number'])\n",
    "train_data.fillna(train_data.mean(), inplace=True)"
   ]
  },
  {
   "cell_type": "code",
   "execution_count": null,
   "metadata": {
    "colab": {
     "base_uri": "https://localhost:8080/",
     "height": 495
    },
    "id": "PmwSG7Qydd6l",
    "outputId": "55679312-8120-4306-f5f5-b336f5edd8be"
   },
   "outputs": [],
   "source": [
    "# Data Analysis\n",
    "plt.figure(figsize=(10, 6))\n",
    "sns.histplot(train_data['Weekly_Sales'], bins=50, kde=True)\n",
    "plt.title('Distribution of Weekly Sales')\n",
    "plt.show()"
   ]
  },
  {
   "cell_type": "code",
   "execution_count": null,
   "metadata": {
    "colab": {
     "base_uri": "https://localhost:8080/",
     "height": 422
    },
    "id": "N58zUSfCddqD",
    "outputId": "b9be95cc-aea1-4dc9-9509-1a545948d3c4"
   },
   "outputs": [],
   "source": [
    "plt.figure(figsize=(14, 7))\n",
    "sns.boxplot(x='Dept', y='Weekly_Sales', data=train_data)\n",
    "plt.xticks(rotation=90)\n",
    "plt.title('Weekly Sales by Department')\n",
    "plt.show()"
   ]
  },
  {
   "cell_type": "code",
   "execution_count": null,
   "metadata": {
    "id": "tGV_EHZJC3VH"
   },
   "outputs": [],
   "source": [
    "X = train_data.drop(columns=['Weekly_Sales'])\n",
    "y = train_data['Weekly_Sales']"
   ]
  },
  {
   "cell_type": "code",
   "execution_count": null,
   "metadata": {
    "id": "s9YC0_70C-gu"
   },
   "outputs": [],
   "source": [
    "#Split the Data\n",
    "X_train, X_test, y_train, y_test = train_test_split(X, y, test_size=0.2, random_state=42)"
   ]
  },
  {
   "cell_type": "code",
   "execution_count": null,
   "metadata": {
    "id": "cZEgR5ZVC-Wt"
   },
   "outputs": [],
   "source": [
    "# Use RandomForestRegressor model\n",
    "rf = RandomForestRegressor(random_state=42)\n",
    "rf.fit(X_train, y_train)\n",
    "y_pred = rf.predict(X_test)"
   ]
  },
  {
   "cell_type": "code",
   "execution_count": null,
   "metadata": {
    "colab": {
     "base_uri": "https://localhost:8080/"
    },
    "id": "71x3toTnC-Td",
    "outputId": "aa7bb27d-248b-478c-da6e-6b2185a13c72"
   },
   "outputs": [],
   "source": [
    "rmse = np.sqrt(np.mean((y_test - y_pred) ** 2))\n",
    "mse = mean_squared_error(y_test, y_pred)\n",
    "r2 = r2_score(y_test, y_pred)\n",
    "print(f'R^2 Score: {r2}')\n",
    "print(f'RMSE: {rmse}')"
   ]
  },
  {
   "cell_type": "code",
   "execution_count": null,
   "metadata": {
    "colab": {
     "base_uri": "https://localhost:8080/"
    },
    "id": "QZkidF2Wl7Vi",
    "outputId": "01d030b5-1d41-4e01-d50f-9dbaeb108653"
   },
   "outputs": [],
   "source": [
    "y_pred"
   ]
  },
  {
   "cell_type": "code",
   "execution_count": null,
   "metadata": {
    "colab": {
     "base_uri": "https://localhost:8080/"
    },
    "id": "euq4bLqA14GA",
    "outputId": "e81d7696-3882-4b94-aa66-29bd7e0de14d"
   },
   "outputs": [],
   "source": [
    "y_test"
   ]
  },
  {
   "cell_type": "code",
   "execution_count": null,
   "metadata": {
    "colab": {
     "base_uri": "https://localhost:8080/",
     "height": 964
    },
    "id": "u0nRlU_MoC04",
    "outputId": "e20db1b0-2b90-47fd-f8e7-3f934d1d25a0"
   },
   "outputs": [],
   "source": [
    "residuals = y_test - y_pred\n",
    "\n",
    "# Plot residuals\n",
    "plt.figure(figsize=(10, 6))\n",
    "sns.histplot(residuals, bins=50, kde=True)\n",
    "plt.title('Distribution of Residuals')\n",
    "plt.show()\n",
    "\n",
    "# Residuals vs Predictions\n",
    "plt.figure(figsize=(10, 6))\n",
    "plt.scatter(y_pred, residuals)\n",
    "plt.axhline(0, color='red', linestyle='--')\n",
    "plt.title('Residuals vs Predictions')\n",
    "plt.xlabel('Predicted Values')\n",
    "plt.ylabel('Residuals')\n",
    "plt.show()"
   ]
  },
  {
   "cell_type": "code",
   "execution_count": null,
   "metadata": {
    "colab": {
     "base_uri": "https://localhost:8080/",
     "height": 420
    },
    "id": "zrTpS8C3AaUi",
    "outputId": "3035f5dc-08f7-46cf-e21d-11deb0835cd7"
   },
   "outputs": [],
   "source": [
    "errors = pd.DataFrame({'Actual': y_test, 'Predicted': y_pred})\n",
    "errors['Error'] = errors['Actual'] - errors['Predicted']\n",
    "\n",
    "# Plotting the actual vs predicted values\n",
    "plt.figure(figsize=(14, 7))\n",
    "plt.plot(errors['Actual'].values, label='Actual')\n",
    "plt.plot(errors['Predicted'].values, label='Predicted', alpha=0.7)\n",
    "plt.title('Actual vs Predicted Sales')\n",
    "plt.xlabel('Samples')\n",
    "plt.ylabel('Weekly Sales')\n",
    "plt.legend()\n",
    "plt.show()"
   ]
  },
  {
   "cell_type": "code",
   "execution_count": null,
   "metadata": {
    "colab": {
     "base_uri": "https://localhost:8080/",
     "height": 495
    },
    "id": "Qfo4C7t1CMDi",
    "outputId": "bc0fa606-bc65-43ea-e1db-f28ab819fae4"
   },
   "outputs": [],
   "source": [
    "# Scatter plot of actual vs predicted\n",
    "plt.figure(figsize=(10, 6))\n",
    "plt.scatter(errors['Actual'], errors['Predicted'])\n",
    "plt.plot([errors['Actual'].min(), errors['Actual'].max()], [errors['Actual'].min(), errors['Actual'].max()], 'k--', lw=3)\n",
    "plt.title('Actual vs Predicted Sales')\n",
    "plt.xlabel('Actual Sales')\n",
    "plt.ylabel('Predicted Sales')\n",
    "plt.show()"
   ]
  },
  {
   "cell_type": "code",
   "execution_count": null,
   "metadata": {
    "id": "CciOqnpOeQIK"
   },
   "outputs": [],
   "source": []
  }
 ],
 "metadata": {
  "colab": {
   "provenance": []
  },
  "kernelspec": {
   "display_name": "Python 3 (ipykernel)",
   "language": "python",
   "name": "python3"
  },
  "language_info": {
   "codemirror_mode": {
    "name": "ipython",
    "version": 3
   },
   "file_extension": ".py",
   "mimetype": "text/x-python",
   "name": "python",
   "nbconvert_exporter": "python",
   "pygments_lexer": "ipython3",
   "version": "3.9.13"
  }
 },
 "nbformat": 4,
 "nbformat_minor": 1
}
